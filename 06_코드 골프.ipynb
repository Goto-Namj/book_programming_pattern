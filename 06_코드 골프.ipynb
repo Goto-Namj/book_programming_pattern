{
 "cells": [
  {
   "cell_type": "markdown",
   "metadata": {},
   "source": [
    "# 기본 형식"
   ]
  },
  {
   "cell_type": "markdown",
   "metadata": {},
   "source": [
    "# 제약 조건\n",
    "\n",
    "- 코드 줄 수를 가능한 한 적게 한다."
   ]
  },
  {
   "cell_type": "markdown",
   "metadata": {},
   "source": [
    "### 이해\n",
    "\n",
    "글자 수라고 하지 않았기 때문에, 들여쓰기가 필수가 아닌 다른 언어에서는 한줄로 코드를 짤 수 있다.\n",
    "\n",
    "이 제약은 파이썬에서만 해당되는 내용같다."
   ]
  },
  {
   "cell_type": "markdown",
   "metadata": {},
   "source": [
    "# 코드"
   ]
  },
  {
   "cell_type": "code",
   "execution_count": 3,
   "metadata": {},
   "outputs": [
    {
     "name": "stdout",
     "output_type": "stream",
     "text": [
      "\n",
      "    park 800905-*******\n",
      "    kim 700905-*******\n",
      "    \n",
      "\n",
      "    park 800905-*******\n",
      "    kim 700905-*******\n",
      "    \n"
     ]
    }
   ],
   "source": [
    "# 정규 표현식을 사용해 보겠다.\n",
    "\n",
    "# 먼저, 정규 표현식을 사용하지 않은 코드이다.\n",
    "\n",
    "data=\"\"\"\n",
    "    park 800905-1049118\n",
    "    kim 700905-1059119\n",
    "    \"\"\"\n",
    "\n",
    "result=[]\n",
    "for line in data.split(\"\\n\"):\n",
    "    word_result = []\n",
    "    for word in line.split(\" \"):\n",
    "        if(len(word) == 14 and word[:6].isdigit() and word[7:].isdigit()):\n",
    "            word = word[:6] + \"-\" + \"*******\"\n",
    "        word_result.append(word)\n",
    "    result.append(\" \".join(word_result))\n",
    "print(\"\\n\".join(result))\n",
    "\n",
    "\n",
    "# 다음은 정규 표현식을 사용하며, 줄 수를 줄인 코드이다.\n",
    "\n",
    "import re\n",
    "data = \"\"\"\n",
    "    park 800905-1049118\n",
    "    kim 700905-1059119\n",
    "    \"\"\"\n",
    "print(re.compile(\"(\\d{6})[-]\\d{7}\").sub(\"\\g<1>-*******\",data))"
   ]
  }
 ],
 "metadata": {
  "kernelspec": {
   "display_name": "Python 3",
   "language": "python",
   "name": "python3"
  },
  "language_info": {
   "codemirror_mode": {
    "name": "ipython",
    "version": 3
   },
   "file_extension": ".py",
   "mimetype": "text/x-python",
   "name": "python",
   "nbconvert_exporter": "python",
   "pygments_lexer": "ipython3",
   "version": "3.7.3"
  }
 },
 "nbformat": 4,
 "nbformat_minor": 2
}
