{
 "cells": [
  {
   "cell_type": "markdown",
   "metadata": {},
   "source": [
    "# 객체와 객체 상호작용"
   ]
  },
  {
   "cell_type": "markdown",
   "metadata": {},
   "source": [
    "# 제약 조건\n",
    "\n",
    "- 규모가 큰 문제를 문제 영역에 합당한 사물(thing)로 분해한다.\n",
    "- 각 사물은 키를 값으로 매핑하는 맵이며, 어떤 값은 프로시저/함수다.\n",
    "- 프로시저/함수는 그 자신의 슬롯을 참조함으로써 맵 자체를 닫는다."
   ]
  },
  {
   "cell_type": "markdown",
   "metadata": {},
   "source": [
    "### 이해\n",
    "\n",
    "- 객체(딕셔너리)가 있다. -> 키와 값(데이터, 또는 함수)\n",
    "- 이 딕셔너리는 클래스와 비슷한데, 생성자도 있으며(만들면) self같은 자기 참조 키워드 대신 자신 객체를 직접 가리킴으로써 self에 저장하는 것들에 접근한다.\n",
    "- 어느 시점의 복사본을 만들 경우 .copy()로 객체(딕셔너리)를 인스턴스화 할 수 있다.\n",
    "- 객체의 기능 확장 역시 간단하다.\n",
    "- 하지만 접근 제어가 없어서 모든 키를 색인할 수 있다.\n",
    "- 이 방법은 클래스, 상속 등의 개념을 지원하지 않는 언어에서 사용할 경우 유용하다."
   ]
  },
  {
   "cell_type": "markdown",
   "metadata": {},
   "source": [
    "# 코드"
   ]
  },
  {
   "cell_type": "code",
   "execution_count": 36,
   "metadata": {},
   "outputs": [
    {
     "name": "stdout",
     "output_type": "stream",
     "text": [
      "하자있는 인간들\n"
     ]
    }
   ],
   "source": [
    "# 네이버 실검 1위 크롤링\n",
    "import re\n",
    "import urllib.request\n",
    "from bs4 import BeautifulSoup\n",
    "\n",
    "\n",
    "# 보조함수\n",
    "def crawling(obj, url):\n",
    "    page = urllib.request.urlopen(url).read().decode(\"utf-8\")\n",
    "    soup = BeautifulSoup(page, \"html.parser\")\n",
    "    items = soup.select(\".ah_roll_area > ul > li > a > span\")\n",
    "    obj[\"data\"] = str(items[1])\n",
    "    obj[\"manufacturing\"]()\n",
    "    \n",
    "    \n",
    "def manufacturing(obj):\n",
    "    obj[\"data\"] = obj[\"data\"][19:-7]\n",
    "    \n",
    "    \n",
    "# 객체\n",
    "take_data_obj = {\n",
    "    \"data\" : \"\", # 얘는 보조함수에서 사용(읽,쓰)\n",
    "    \"init\" : lambda url : crawling(take_data_obj, url),\n",
    "    \"manufacturing\" : lambda : manufacturing(take_data_obj),\n",
    "    \"information\" : lambda : take_data_obj[\"data\"], # 얘는 밖(main)에서 사용(읽기전용처럼사용)\n",
    "}\n",
    "\n",
    "\n",
    "\n",
    "url = \"https://www.naver.com/\"\n",
    "take_data_obj[\"init\"](url)\n",
    "print(take_data_obj[\"information\"]())"
   ]
  },
  {
   "cell_type": "markdown",
   "metadata": {},
   "source": [
    "# 알게 된 용어\n",
    "- 프로토타입: 클래스가 없는 객체 지향 언어에서의 객체, 자체적인 데이터와 함수를 항상 지니고 있으며, 다른 프로토타입에 영향을 주지 않으면서 변경될 수 있다. 개 프로토타입은 기존 프로토타입을 복제하는 방식으로 생성된다.(fork같은건가?)"
   ]
  }
 ],
 "metadata": {
  "kernelspec": {
   "display_name": "Python 3",
   "language": "python",
   "name": "python3"
  },
  "language_info": {
   "codemirror_mode": {
    "name": "ipython",
    "version": 3
   },
   "file_extension": ".py",
   "mimetype": "text/x-python",
   "name": "python",
   "nbconvert_exporter": "python",
   "pygments_lexer": "ipython3",
   "version": "3.7.3"
  }
 },
 "nbformat": 4,
 "nbformat_minor": 2
}
