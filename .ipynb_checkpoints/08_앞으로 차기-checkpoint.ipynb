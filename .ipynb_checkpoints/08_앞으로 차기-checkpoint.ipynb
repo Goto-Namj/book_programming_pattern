{
 "cells": [
  {
   "cell_type": "markdown",
   "metadata": {},
   "source": [
    "# 함수 합성"
   ]
  },
  {
   "cell_type": "markdown",
   "metadata": {},
   "source": [
    "# 제약 조건\n",
    "\n",
    "- 각 함수에서는 추가 매개변수를 취하는데, 맨 마지막 매개변수는 일반적으로 다른 함수다.\n",
    "\n",
    "- 현재 함수 처리 마지막에 그 함수 매개변수를 적용한다.\n",
    "\n",
    "- 현재 함수의 출력을 그 함수 매개변수의 입력으로 사용한다.\n",
    "\n",
    "- 규모가 큰 문제를 함수의 파이프라인으로 해결한다. 이때 다음에 적용할 함수를 현재 함수의 매개변수로 사용한다."
   ]
  },
  {
   "cell_type": "markdown",
   "metadata": {},
   "source": [
    "### 이해\n",
    "\n",
    "함수의 매개변수로 다음 함수를 받아온다.\n",
    "func = 다음 함수\n",
    "\n",
    "함수의 매개변수로 다음 함수에서 사용할 데이터 (현재 함수에서 처리한 데이터)\n",
    "i = 현재 함수에서 처리할 데이터\n",
    "result = 다음 함수에서 처리할 데이터(현재 처리한)"
   ]
  },
  {
   "cell_type": "markdown",
   "metadata": {},
   "source": [
    "# 코드"
   ]
  },
  {
   "cell_type": "code",
   "execution_count": 4,
   "metadata": {},
   "outputs": [
    {
     "name": "stdout",
     "output_type": "stream",
     "text": [
      "5\n",
      "a 6\n",
      "b 12\n",
      "c 22\n"
     ]
    }
   ],
   "source": [
    "# (input + 1) * 2 + 10 함수\n",
    "\n",
    "def a(i,func):\n",
    "    result = i+1\n",
    "    print('a',result)\n",
    "    func(result, c)\n",
    "    \n",
    "def b(i,func):\n",
    "    result = i*2\n",
    "    print('b',result)\n",
    "    func(result, d)\n",
    "    \n",
    "def c(i,func):\n",
    "    result = i+10\n",
    "    print('c',result)\n",
    "    func(None)\n",
    "    \n",
    "def d(func):\n",
    "    return\n",
    "\n",
    "a(int(input()),b)"
   ]
  },
  {
   "cell_type": "code",
   "execution_count": null,
   "metadata": {},
   "outputs": [],
   "source": []
  }
 ],
 "metadata": {
  "kernelspec": {
   "display_name": "Python 3",
   "language": "python",
   "name": "python3"
  },
  "language_info": {
   "codemirror_mode": {
    "name": "ipython",
    "version": 3
   },
   "file_extension": ".py",
   "mimetype": "text/x-python",
   "name": "python",
   "nbconvert_exporter": "python",
   "pygments_lexer": "ipython3",
   "version": "3.7.3"
  }
 },
 "nbformat": 4,
 "nbformat_minor": 2
}
