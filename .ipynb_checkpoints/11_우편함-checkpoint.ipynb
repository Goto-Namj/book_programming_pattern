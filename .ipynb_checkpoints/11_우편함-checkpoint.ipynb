{
 "cells": [
  {
   "cell_type": "markdown",
   "metadata": {},
   "source": [
    "# 객체와 객체 상호작용"
   ]
  },
  {
   "cell_type": "markdown",
   "metadata": {},
   "source": [
    "# 제약 조건\n",
    "\n",
    "- 규모가 큰 문제를 문제 영역에 합당한 사물(thing)로 분해한다.\n",
    "- 각 사물은 데이터의 캡슐이며, 단 하나의 프로시저를 드러낸다. 즉, 이 프로시저를 통해 메시지를 받고 처리(dispatch)할 수 있다.\n",
    "- 메시지를 처리한 결과로 다른 캡슐에 메시지를 보낼 수 있다."
   ]
  },
  {
   "cell_type": "markdown",
   "metadata": {},
   "source": [
    "### 이해\n",
    "\n",
    "- 각 객체는 노출된 함수, 작업을 하는 함수로 이루어진다.\n",
    "- 노출된 함수가 메시지(아무것)를 받아 어떤 행동을 할지 결정한다. (메시지에따라 A를 처리할지, B를 처리할지, 올바르지 않은 메시지라고 메시지를 반환할지)\n",
    "- 행동이 결정되어 작업을 하게 되면 묵묵히 자기 일을 수행한다.\n",
    "- 이 때 다른 객체의 도움이 필요하게 되면 메시지를 보내고 역시 다른객체 속 노출함수가 메시지를 처리해서 처리결과에 맞는 함수를 실행한다."
   ]
  },
  {
   "cell_type": "markdown",
   "metadata": {},
   "source": [
    "# 코드"
   ]
  },
  {
   "cell_type": "code",
   "execution_count": 27,
   "metadata": {},
   "outputs": [
    {
     "ename": "Exception",
     "evalue": "(() is not proper",
     "output_type": "error",
     "traceback": [
      "\u001b[1;31m---------------------------------------------------------------------------\u001b[0m",
      "\u001b[1;31mException\u001b[0m                                 Traceback (most recent call last)",
      "\u001b[1;32m<ipython-input-27-49b8c16d0460>\u001b[0m in \u001b[0;36mgive_take\u001b[1;34m(self, data)\u001b[0m\n\u001b[0;32m     17\u001b[0m             \u001b[0mdata\u001b[0m \u001b[1;33m=\u001b[0m \u001b[0mself\u001b[0m\u001b[1;33m.\u001b[0m\u001b[0mDE\u001b[0m\u001b[1;33m.\u001b[0m\u001b[0mexposure\u001b[0m\u001b[1;33m(\u001b[0m\u001b[0mdata\u001b[0m\u001b[1;33m)\u001b[0m\u001b[1;33m\u001b[0m\u001b[1;33m\u001b[0m\u001b[0m\n\u001b[1;32m---> 18\u001b[1;33m             \u001b[0mdata\u001b[0m \u001b[1;33m=\u001b[0m \u001b[0mself\u001b[0m\u001b[1;33m.\u001b[0m\u001b[0mIPB\u001b[0m\u001b[1;33m.\u001b[0m\u001b[0mexposure\u001b[0m\u001b[1;33m(\u001b[0m\u001b[0mdata\u001b[0m\u001b[1;33m)\u001b[0m\u001b[1;33m\u001b[0m\u001b[1;33m\u001b[0m\u001b[0m\n\u001b[0m\u001b[0;32m     19\u001b[0m         \u001b[1;32mexcept\u001b[0m \u001b[1;33m:\u001b[0m\u001b[1;33m\u001b[0m\u001b[1;33m\u001b[0m\u001b[0m\n",
      "\u001b[1;32m<ipython-input-27-49b8c16d0460>\u001b[0m in \u001b[0;36mexposure\u001b[1;34m(self, message)\u001b[0m\n\u001b[0;32m     47\u001b[0m         \u001b[1;32mif\u001b[0m \u001b[0mtype\u001b[0m\u001b[1;33m(\u001b[0m\u001b[0mmessage\u001b[0m\u001b[1;33m)\u001b[0m \u001b[1;33m==\u001b[0m \u001b[0mstr\u001b[0m\u001b[1;33m:\u001b[0m\u001b[1;33m\u001b[0m\u001b[1;33m\u001b[0m\u001b[0m\n\u001b[1;32m---> 48\u001b[1;33m             \u001b[1;32mreturn\u001b[0m \u001b[0mself\u001b[0m\u001b[1;33m.\u001b[0m\u001b[0mis_even_number\u001b[0m\u001b[1;33m(\u001b[0m\u001b[0mmessage\u001b[0m\u001b[1;33m)\u001b[0m\u001b[1;33m\u001b[0m\u001b[1;33m\u001b[0m\u001b[0m\n\u001b[0m\u001b[0;32m     49\u001b[0m         \u001b[1;32melse\u001b[0m\u001b[1;33m:\u001b[0m\u001b[1;33m\u001b[0m\u001b[1;33m\u001b[0m\u001b[0m\n",
      "\u001b[1;32m<ipython-input-27-49b8c16d0460>\u001b[0m in \u001b[0;36mis_even_number\u001b[1;34m(self, data)\u001b[0m\n\u001b[0;32m     55\u001b[0m         \u001b[1;32melse\u001b[0m\u001b[1;33m:\u001b[0m\u001b[1;33m\u001b[0m\u001b[1;33m\u001b[0m\u001b[0m\n\u001b[1;32m---> 56\u001b[1;33m             \u001b[1;32mraise\u001b[0m \u001b[0mException\u001b[0m\u001b[1;33m(\u001b[0m\u001b[0mdata\u001b[0m\u001b[1;33m+\u001b[0m\u001b[1;34m\" is not proper\"\u001b[0m\u001b[1;33m)\u001b[0m\u001b[1;33m\u001b[0m\u001b[1;33m\u001b[0m\u001b[0m\n\u001b[0m\u001b[0;32m     57\u001b[0m \u001b[1;33m\u001b[0m\u001b[0m\n",
      "\u001b[1;31mException\u001b[0m: (() is not proper",
      "\nDuring handling of the above exception, another exception occurred:\n",
      "\u001b[1;31mException\u001b[0m                                 Traceback (most recent call last)",
      "\u001b[1;32m<ipython-input-27-49b8c16d0460>\u001b[0m in \u001b[0;36m<module>\u001b[1;34m\u001b[0m\n\u001b[0;32m     70\u001b[0m \u001b[1;33m\u001b[0m\u001b[0m\n\u001b[0;32m     71\u001b[0m \u001b[0mip\u001b[0m \u001b[1;33m=\u001b[0m \u001b[0mIsProper\u001b[0m\u001b[1;33m(\u001b[0m\u001b[1;33m)\u001b[0m\u001b[1;33m\u001b[0m\u001b[1;33m\u001b[0m\u001b[0m\n\u001b[1;32m---> 72\u001b[1;33m \u001b[0mip\u001b[0m\u001b[1;33m.\u001b[0m\u001b[0mexposure\u001b[0m\u001b[1;33m(\u001b[0m\u001b[1;34m'123(23(4)'\u001b[0m\u001b[1;33m)\u001b[0m\u001b[1;33m\u001b[0m\u001b[1;33m\u001b[0m\u001b[0m\n\u001b[0m",
      "\u001b[1;32m<ipython-input-27-49b8c16d0460>\u001b[0m in \u001b[0;36mexposure\u001b[1;34m(self, message)\u001b[0m\n\u001b[0;32m      9\u001b[0m     \u001b[1;32mdef\u001b[0m \u001b[0mexposure\u001b[0m\u001b[1;33m(\u001b[0m\u001b[0mself\u001b[0m\u001b[1;33m,\u001b[0m \u001b[0mmessage\u001b[0m\u001b[1;33m)\u001b[0m\u001b[1;33m:\u001b[0m\u001b[1;33m\u001b[0m\u001b[1;33m\u001b[0m\u001b[0m\n\u001b[0;32m     10\u001b[0m         \u001b[1;32mif\u001b[0m \u001b[0mtype\u001b[0m\u001b[1;33m(\u001b[0m\u001b[0mmessage\u001b[0m\u001b[1;33m)\u001b[0m \u001b[1;33m==\u001b[0m \u001b[0mstr\u001b[0m\u001b[1;33m:\u001b[0m\u001b[1;33m\u001b[0m\u001b[1;33m\u001b[0m\u001b[0m\n\u001b[1;32m---> 11\u001b[1;33m             \u001b[1;32mreturn\u001b[0m \u001b[0mself\u001b[0m\u001b[1;33m.\u001b[0m\u001b[0mgive_take\u001b[0m\u001b[1;33m(\u001b[0m\u001b[0mmessage\u001b[0m\u001b[1;33m)\u001b[0m\u001b[1;33m\u001b[0m\u001b[1;33m\u001b[0m\u001b[0m\n\u001b[0m\u001b[0;32m     12\u001b[0m         \u001b[1;32melse\u001b[0m\u001b[1;33m:\u001b[0m\u001b[1;33m\u001b[0m\u001b[1;33m\u001b[0m\u001b[0m\n\u001b[0;32m     13\u001b[0m             \u001b[1;32mraise\u001b[0m \u001b[0mException\u001b[0m\u001b[1;33m(\u001b[0m\u001b[0mmessage\u001b[0m\u001b[1;33m+\u001b[0m\u001b[1;34m\" is not proper\"\u001b[0m\u001b[1;33m)\u001b[0m\u001b[1;33m\u001b[0m\u001b[1;33m\u001b[0m\u001b[0m\n",
      "\u001b[1;32m<ipython-input-27-49b8c16d0460>\u001b[0m in \u001b[0;36mgive_take\u001b[1;34m(self, data)\u001b[0m\n\u001b[0;32m     18\u001b[0m             \u001b[0mdata\u001b[0m \u001b[1;33m=\u001b[0m \u001b[0mself\u001b[0m\u001b[1;33m.\u001b[0m\u001b[0mIPB\u001b[0m\u001b[1;33m.\u001b[0m\u001b[0mexposure\u001b[0m\u001b[1;33m(\u001b[0m\u001b[0mdata\u001b[0m\u001b[1;33m)\u001b[0m\u001b[1;33m\u001b[0m\u001b[1;33m\u001b[0m\u001b[0m\n\u001b[0;32m     19\u001b[0m         \u001b[1;32mexcept\u001b[0m \u001b[1;33m:\u001b[0m\u001b[1;33m\u001b[0m\u001b[1;33m\u001b[0m\u001b[0m\n\u001b[1;32m---> 20\u001b[1;33m             \u001b[1;32mraise\u001b[0m \u001b[0mException\u001b[0m\u001b[1;33m(\u001b[0m\u001b[0mdata\u001b[0m\u001b[1;33m+\u001b[0m\u001b[1;34m\" is not proper\"\u001b[0m\u001b[1;33m)\u001b[0m\u001b[1;33m\u001b[0m\u001b[1;33m\u001b[0m\u001b[0m\n\u001b[0m\u001b[0;32m     21\u001b[0m         \u001b[1;32mreturn\u001b[0m \u001b[0mdata\u001b[0m\u001b[1;33m\u001b[0m\u001b[1;33m\u001b[0m\u001b[0m\n\u001b[0;32m     22\u001b[0m \u001b[1;33m\u001b[0m\u001b[0m\n",
      "\u001b[1;31mException\u001b[0m: (() is not proper"
     ]
    }
   ],
   "source": [
    "# 주석, 문자열()와 같은 예외를 제외한 코드에서 괄호가 잘 닫혔는지 확인하는 프로그램\n",
    "# ()()() O, (()()) O, ((())) O, )( X\n",
    "\n",
    "class IsProper():\n",
    "    def __init__(self):\n",
    "        self.DE = DeleteException()\n",
    "        self.IPB = IsProperBracket()\n",
    "    \n",
    "    def exposure(self, message):\n",
    "        if type(message) == str:\n",
    "            return self.give_take(message)\n",
    "        else:\n",
    "            raise Exception(message+\" is not proper\")\n",
    "    \n",
    "    def give_take(self, data):\n",
    "        try :\n",
    "            data = self.DE.exposure(data)\n",
    "            data = self.IPB.exposure(data)\n",
    "        except :\n",
    "            raise Exception(data+\" is not proper\")\n",
    "        return data\n",
    "    \n",
    "    \n",
    "class DeleteException():\n",
    "    def __init__(self):\n",
    "        pass\n",
    "    \n",
    "    def exposure(self, message):\n",
    "        if type(message) == str:\n",
    "            return self.cut_attaching(message)\n",
    "        else:\n",
    "            raise Exception(message+\" is not proper\")\n",
    "            \n",
    "    def cut_attaching(self, data):\n",
    "        result=\"\"\n",
    "        for i in data:\n",
    "            if i == '(' or i == ')':\n",
    "                result+=i\n",
    "        return result\n",
    "    \n",
    "\n",
    "class IsProperBracket():\n",
    "    def __init__(self):\n",
    "        pass\n",
    "    \n",
    "    def exposure(self, message):\n",
    "        if type(message) == str:\n",
    "            return self.is_even_number(message)\n",
    "        else:\n",
    "            raise Exception(message+\" is not proper\")\n",
    "            \n",
    "    def is_even_number(self, data):\n",
    "        if len(data)%2 == 0:\n",
    "            return self.is_close_well(data)\n",
    "        else:\n",
    "            raise Exception(data+\" is not proper\")\n",
    "    \n",
    "    def is_close_well(self, data):\n",
    "        tmp=0\n",
    "        for i in data:\n",
    "            if i == '(':\n",
    "                tmp+=1\n",
    "            elif i == ')':\n",
    "                tmp-=1\n",
    "            if tmp < 0:\n",
    "                return False\n",
    "        return True\n",
    "    \n",
    "ip = IsProper()\n",
    "ip.exposure('123(23(4)')"
   ]
  },
  {
   "cell_type": "code",
   "execution_count": null,
   "metadata": {},
   "outputs": [],
   "source": []
  }
 ],
 "metadata": {
  "kernelspec": {
   "display_name": "Python 3",
   "language": "python",
   "name": "python3"
  },
  "language_info": {
   "codemirror_mode": {
    "name": "ipython",
    "version": 3
   },
   "file_extension": ".py",
   "mimetype": "text/x-python",
   "name": "python",
   "nbconvert_exporter": "python",
   "pygments_lexer": "ipython3",
   "version": "3.7.3"
  }
 },
 "nbformat": 4,
 "nbformat_minor": 2
}
