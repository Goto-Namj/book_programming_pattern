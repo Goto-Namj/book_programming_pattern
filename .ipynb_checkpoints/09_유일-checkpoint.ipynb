{
 "cells": [
  {
   "cell_type": "markdown",
   "metadata": {},
   "source": [
    "# 함수 합성"
   ]
  },
  {
   "cell_type": "markdown",
   "metadata": {},
   "source": [
    "# 제약 조건\n",
    "\n",
    "- 값이 변환될 대상인 추상화가 존재한다.\n",
    "- 이 추상화는\n",
    "    1. 값을 감싸 그 값을 해당 추상화로 만들고\n",
    "    2. 자신을 함수화 결함해 일련의 함수를 수립하며\n",
    "    3. 최종 결과를 살펴볼 수 있도록 그 값을 풀어내는 연산을 제공한다.\n",
    "- 규모가 큰 문제를 함수 파이프라인을 함께 결합하고 마지막에 값을 다시 풀어내서 해결한다.\n",
    "- 유일 형식에서는 특히 결합 연산에서 주어진 함수를 단순히 호출하기만 하는데, 이때 연산에서 담고 있는값을 그 함수에 전달한 다음 그 함수에서 반환된 값을 다시 담는다."
   ]
  },
  {
   "cell_type": "markdown",
   "metadata": {},
   "source": [
    "### 이해\n",
    "\n",
    "이번 함수 합성도 별 다를게 없는것 같다.\n",
    "단지 함수와 함수를 이어주는 역할을 하는 유일 이라는 추상화를 class로 구현해 냈기에 중간에 어떤 작업을 할 수도 있다는 장점이 추가된것 같다.\n",
    "좀더 유동적인 코드를 짜기에 유리한 방법같다."
   ]
  },
  {
   "cell_type": "markdown",
   "metadata": {},
   "source": [
    "# 코드"
   ]
  },
  {
   "cell_type": "code",
   "execution_count": 6,
   "metadata": {},
   "outputs": [
    {
     "name": "stdout",
     "output_type": "stream",
     "text": [
      "10.5\n"
     ]
    }
   ],
   "source": [
    "class ttt: # 추상화(유일)\n",
    "    def __init__(self, v):\n",
    "        self.v = v\n",
    "        \n",
    "    def b(self, f):\n",
    "        self.v = f(self.v)\n",
    "        return self\n",
    "    \n",
    "    def p(self):\n",
    "        print(self.v)\n",
    "        \n",
    "        \n",
    "def f1(pa):\n",
    "    pa += 1\n",
    "    return pa\n",
    "\n",
    "def f2(pa):\n",
    "    pa *= 2\n",
    "    return pa\n",
    "\n",
    "def f3(pa):\n",
    "    pa -= 1\n",
    "    return pa\n",
    "\n",
    "def f4(pa):\n",
    "    pa /= 2\n",
    "    return pa\n",
    "\n",
    "ttt(10).b(f1).b(f2).b(f3).b(f4).p()"
   ]
  },
  {
   "cell_type": "code",
   "execution_count": null,
   "metadata": {},
   "outputs": [],
   "source": []
  }
 ],
 "metadata": {
  "kernelspec": {
   "display_name": "Python 3",
   "language": "python",
   "name": "python3"
  },
  "language_info": {
   "codemirror_mode": {
    "name": "ipython",
    "version": 3
   },
   "file_extension": ".py",
   "mimetype": "text/x-python",
   "name": "python",
   "nbconvert_exporter": "python",
   "pygments_lexer": "ipython3",
   "version": "3.7.3"
  }
 },
 "nbformat": 4,
 "nbformat_minor": 2
}
