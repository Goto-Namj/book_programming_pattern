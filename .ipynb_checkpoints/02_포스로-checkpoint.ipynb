{
 "cells": [
  {
   "cell_type": "markdown",
   "metadata": {},
   "source": [
    "# 전통적 형식"
   ]
  },
  {
   "cell_type": "markdown",
   "metadata": {},
   "source": [
    "# 제약 조건\n",
    "\n",
    "- 데이터 스택(stack)이 존재한다. 조건, 산술 등의 모든 연산은 스택에 잇는 데이터를 대상으로 이뤄진다.\n",
    "\n",
    "- 나중에 연산해야 하는 데이터를 저장할 힙(heap)이 존재한다. 힙 데이터는 이름(즉 변수)과 연관될 수 있다.\n",
    "위에서 얘기했듯이 모든 연산은 스택에 있는 데이터에 대해 이뤄지므로 연산해야 하는 모든 힙 데이터는 먼저 스택으로 옮겨야 하고\n",
    "최종적으로는 다시 힙으로 옮긴다.\n",
    "\n",
    "- 사용자 정의 '프로시저'(즉, 명령 집합을 가리키는 이름이며, 전혀 다른 명칭으로 부를 수도 있다) 형태의 추상화가 존재한다."
   ]
  },
  {
   "cell_type": "markdown",
   "metadata": {},
   "source": [
    "### 이해\n",
    "\n",
    "변수와 비슷한 개념의 힙에 데이터를 저장하고,\n",
    "\n",
    "연산을 위해서 힙의 데이터를 데이터 스택으로 이동시켜 연산 후, 다시 힙에 옮긴다.\n",
    "\n",
    "함수와 비슷한 개념의 프로시저가 존재하는것같다. 다만 함수와 다른 점은 명령들만의 집합인것 같다."
   ]
  },
  {
   "cell_type": "markdown",
   "metadata": {},
   "source": [
    "# 코드"
   ]
  },
  {
   "cell_type": "code",
   "execution_count": 20,
   "metadata": {},
   "outputs": [
    {
     "name": "stdout",
     "output_type": "stream",
     "text": [
      "1+(2-3*4)/5\n",
      "-1.0\n"
     ]
    }
   ],
   "source": [
    "# 스택, 후위표기법을 활용한 계산기 프로그램 구현 \n",
    "# 스택1,2,3들은 스택으로 사용 heap만 변수 프로시저인 함수는 안에서 변수를 사용하지 않고, 명령들만 모았다.\n",
    "\n",
    "heap = list(input())\n",
    "\n",
    "def postfix_mark():\n",
    "    global heap\n",
    "    stack1 = []\n",
    "    stack2 = []\n",
    "    stack3 = []\n",
    "\n",
    "    while (heap):\n",
    "        if (heap[-1] == ' '):\n",
    "            heap.pop()\n",
    "        else:\n",
    "            stack1.append(heap.pop())\n",
    "    while (stack1):\n",
    "        if (not stack1[-1] in ')(+-*/'):\n",
    "            stack3.append(int(stack1.pop()))\n",
    "        elif (stack1[-1] == '('):\n",
    "            stack2.append(stack1.pop())\n",
    "        else:\n",
    "            if (not stack2 or stack2[-1] == '('):\n",
    "                stack2.append(stack1.pop())\n",
    "            else:\n",
    "                if (stack1[-1] in '+-'):\n",
    "                    while (stack2 or stack2[-1] == '('):\n",
    "                        stack3.append(stack2.pop())\n",
    "                elif (stack1[-1] in '*/'):\n",
    "                    while (stack2):\n",
    "                        if (stack2[-1] in '+-'):\n",
    "                            stack2.append(stack1.pop())\n",
    "                            break\n",
    "                        elif (stack2[-1] == '('):\n",
    "                            break\n",
    "                        stack3.append(stack2.pop())\n",
    "                else:\n",
    "                    while not (stack2[-1] == '('):\n",
    "                        stack3.append(stack2.pop())\n",
    "                    stack1.pop()\n",
    "                    stack2.pop()\n",
    "    while (stack2):\n",
    "        stack3.append(stack2.pop())\n",
    "    heap = stack3\n",
    "\n",
    "def calc():\n",
    "    global heap\n",
    "    stack1 = []\n",
    "    stack2 = []\n",
    "    \n",
    "    while (heap):\n",
    "        stack1.append(heap.pop())\n",
    "    while (stack1):\n",
    "        if (type(stack1[-1]) == type(1)):\n",
    "            stack2.append(stack1.pop())\n",
    "        else:\n",
    "            if (stack1[-1] == '+'):\n",
    "                stack2.append(stack2.pop()+stack2.pop())\n",
    "            elif (stack1[-1] == '-'):\n",
    "                stack2.append(-stack2.pop()+stack2.pop())\n",
    "            elif (stack1[-1] == '*'):\n",
    "                stack2.append(stack2.pop()*stack2.pop())\n",
    "            else:\n",
    "                stack2.append(1/stack2.pop()*stack2.pop())\n",
    "            stack1.pop()\n",
    "    heap = stack2[0]\n",
    "    \n",
    "    \n",
    "    \n",
    "postfix_mark()\n",
    "calc()\n",
    "print(heap)"
   ]
  },
  {
   "cell_type": "code",
   "execution_count": null,
   "metadata": {},
   "outputs": [],
   "source": []
  }
 ],
 "metadata": {
  "kernelspec": {
   "display_name": "Python 3",
   "language": "python",
   "name": "python3"
  },
  "language_info": {
   "codemirror_mode": {
    "name": "ipython",
    "version": 3
   },
   "file_extension": ".py",
   "mimetype": "text/x-python",
   "name": "python",
   "nbconvert_exporter": "python",
   "pygments_lexer": "ipython3",
   "version": "3.7.3"
  }
 },
 "nbformat": 4,
 "nbformat_minor": 2
}
