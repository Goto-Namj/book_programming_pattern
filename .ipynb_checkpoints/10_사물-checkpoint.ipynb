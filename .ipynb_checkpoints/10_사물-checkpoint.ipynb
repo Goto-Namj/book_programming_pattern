{
 "cells": [
  {
   "cell_type": "markdown",
   "metadata": {},
   "source": [
    "# 객체와 객체 상호작용"
   ]
  },
  {
   "cell_type": "markdown",
   "metadata": {},
   "source": [
    "# 제약 조건\n",
    "\n",
    "- 규모가 큰 문제를 문제 영역에 합당한 사물(thing)로 분해한다.\n",
    "- 각 사물은 데이터의 캡슐(capsule)이며, 나머지 세상에 프로시저를 드러낸다.\n",
    "- 데이터에는 절대 직접 접근하지 않으며, 오직 이러한 프로시저를 통해서만 접근한다.\n",
    "- 캡슐은 다른 캡슐에서 정의한 프로시저를 사용할 수 있다."
   ]
  },
  {
   "cell_type": "markdown",
   "metadata": {},
   "source": [
    "### 이해\n",
    "\n",
    "클래스같은 객체를 만들고 각 클래스가 하는일을 선언하고 클래스간의 통신? 을 통해서만 데이터를 주고받는식으로 코드를 짠다.\n",
    "\n",
    "상속을 꼭 해야하는것 같다.\n",
    "\n",
    "무조건 self로 데이터를 관리해야하는것 같다. 그리고 그 데이터는 사물 사이에서는 공유한다."
   ]
  },
  {
   "cell_type": "markdown",
   "metadata": {},
   "source": [
    "# 코드"
   ]
  },
  {
   "cell_type": "code",
   "execution_count": 73,
   "metadata": {},
   "outputs": [
    {
     "name": "stdout",
     "output_type": "stream",
     "text": [
      "안녕하세요.(한글)\n",
      "저 한국말 잘 못해요(한글)\n",
      "안녕하세요.(영어)\n"
     ]
    }
   ],
   "source": [
    "# 사람 특징 상속 받고, 한국인 미국인 한구계 미국인이 있어서 서로 대화하는데 중간에서 통역? 하는 역할 해주는 그런 형식의 코드\n",
    "# 아마도..? 말을 전달하는 클래스가 있어야 하지만 그게 있으려면 if문이 많거나, 무한루프의 문제로 인해 구현하지 않았다.\n",
    "# 사물간 데이터를 공유하는 작업을 하는 메서드나 사물이 없다는 말이다.\n",
    "\n",
    "class Person():\n",
    "    def __init__(self):\n",
    "        pass\n",
    "    \n",
    "    def speak(self,*data):\n",
    "        if data:\n",
    "            self.speak_data = str(data[0])\n",
    "        return self.speak_data\n",
    "        \n",
    "    def think(self):\n",
    "        raise UnthinkingPersonError\n",
    "    \n",
    "    def listen(self,data):\n",
    "        self.listen_data = data\n",
    "        return self.think()\n",
    "        \n",
    "        \n",
    "class Korean(Person):\n",
    "    def think(self):\n",
    "        if self.listen_data[-4:] == '(영어)':\n",
    "            self.speak_data = 'okay(영어)'\n",
    "        else:\n",
    "            self.speak_data = self.listen_data[:-4] + '(한글)'\n",
    "        return self.speak()\n",
    "    \n",
    "    \n",
    "class American(Person):\n",
    "    def think(self):\n",
    "        if self.listen_data[-4:] == '(한글)':\n",
    "            self.speak_data = '저 한국말 잘 못해요(한글)'\n",
    "        else:\n",
    "            self.speak_data = self.listen_data[:-4] + '(영어)'\n",
    "        return self.speak()\n",
    "\n",
    "    \n",
    "class KoreanAmerican(Person):\n",
    "    def think(self):\n",
    "        if self.listen_data[-4:] == '(한글)':\n",
    "            self.speak_data = self.listen_data[:-4] + '(영어)'\n",
    "        else:\n",
    "            self.speak_data = self.listen_data[:-4] + '(한글)'\n",
    "        return self.speak()\n",
    "        \n",
    "\n",
    "k = Korean()\n",
    "a = American()\n",
    "ka = KoreanAmerican()\n",
    "\n",
    "print(k.speak('안녕하세요.(한글)'))\n",
    "print(a.listen(k.speak('안녕하세요.(한글)')))\n",
    "print(a.listen(ka.listen(k.speak('안녕하세요.(한글)'))))"
   ]
  },
  {
   "cell_type": "markdown",
   "metadata": {},
   "source": [
    "# 용어 복습\n",
    "\n",
    "- 오버로딩(Overloading)\n",
    "        같은 이름의 메서드를 여러개 만들어서 매개변수의 개수, 자료형등에 따라 다르게 처리하는 것(in java)\n",
    "        파이썬 에서는 그냥 *a 로 받아서 if문과 type을 사용해 처리하면 된다.\n",
    "    \n",
    "- 오버라이딩(Overriding)\n",
    "        부모 클래스로부터 상속받은 메서드를 자식클래스가 재정의 하는 행동"
   ]
  }
 ],
 "metadata": {
  "kernelspec": {
   "display_name": "Python 3",
   "language": "python",
   "name": "python3"
  },
  "language_info": {
   "codemirror_mode": {
    "name": "ipython",
    "version": 3
   },
   "file_extension": ".py",
   "mimetype": "text/x-python",
   "name": "python",
   "nbconvert_exporter": "python",
   "pygments_lexer": "ipython3",
   "version": "3.7.3"
  }
 },
 "nbformat": 4,
 "nbformat_minor": 2
}
