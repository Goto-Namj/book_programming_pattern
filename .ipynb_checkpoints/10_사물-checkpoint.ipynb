{
 "cells": [
  {
   "cell_type": "markdown",
   "metadata": {},
   "source": [
    "# 객체와 객체 상호작용"
   ]
  },
  {
   "cell_type": "markdown",
   "metadata": {},
   "source": [
    "# 제약 조건\n",
    "\n",
    "- 규모가 큰 문제를 문제 영역에 합당한 사물(thing)로 분해한다.\n",
    "- 각 사물은 데이터의 캡슐(capsule)이며, 나머지 세상에 프로시저를 드러낸다.\n",
    "- 데이터에는 절대 직접 접근하지 않으며, 오직 이러한 프로시저를 통해서만 접근한다.\n",
    "- 캡슐은 다른 캡슐에서 정의한 프로시저를 사용할 수 있다."
   ]
  },
  {
   "cell_type": "markdown",
   "metadata": {},
   "source": [
    "### 이해\n",
    "\n",
    "클래스같은 객체를 만들고 각 클래스가 하는일을 선언하고 클래스간의 통신? 을 통해서만 데이터를 주고받는식으로 코드를 짠다."
   ]
  },
  {
   "cell_type": "markdown",
   "metadata": {},
   "source": [
    "# 코드"
   ]
  },
  {
   "cell_type": "code",
   "execution_count": 1,
   "metadata": {},
   "outputs": [
    {
     "ename": "IndentationError",
     "evalue": "expected an indented block (<ipython-input-1-db65ed0c1018>, line 5)",
     "output_type": "error",
     "traceback": [
      "\u001b[1;36m  File \u001b[1;32m\"<ipython-input-1-db65ed0c1018>\"\u001b[1;36m, line \u001b[1;32m5\u001b[0m\n\u001b[1;33m    class Korean():\u001b[0m\n\u001b[1;37m        ^\u001b[0m\n\u001b[1;31mIndentationError\u001b[0m\u001b[1;31m:\u001b[0m expected an indented block\n"
     ]
    }
   ],
   "source": [
    "# 사람 특징 상속 받고, 한국인 미국인 한구계 미국인이 있어서 서로 대화하는데 중간에서 통역? 하는 역할 해주는 그런 형식의 코드\n",
    "\n",
    "class Person():\n",
    "\n",
    "class Korean():\n",
    "    \n",
    "class American():\n",
    "    \n",
    "class KoreanAmerican():\n",
    "    "
   ]
  },
  {
   "cell_type": "code",
   "execution_count": null,
   "metadata": {},
   "outputs": [],
   "source": []
  }
 ],
 "metadata": {
  "kernelspec": {
   "display_name": "Python 3",
   "language": "python",
   "name": "python3"
  },
  "language_info": {
   "codemirror_mode": {
    "name": "ipython",
    "version": 3
   },
   "file_extension": ".py",
   "mimetype": "text/x-python",
   "name": "python",
   "nbconvert_exporter": "python",
   "pygments_lexer": "ipython3",
   "version": "3.7.3"
  }
 },
 "nbformat": 4,
 "nbformat_minor": 2
}
