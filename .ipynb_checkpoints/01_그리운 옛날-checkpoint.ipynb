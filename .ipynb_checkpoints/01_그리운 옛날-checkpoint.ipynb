{
 "cells": [
  {
   "cell_type": "markdown",
   "metadata": {},
   "source": [
    "# 전통적 형식"
   ]
  },
  {
   "cell_type": "markdown",
   "metadata": {},
   "source": [
    "# 제약 조건\n",
    "\n",
    "- 주기억 장치의 양은 매우 적으며, 일반적으로 처리/생성할 데이터에 비해 매우 적다.\n",
    "\n",
    "- 식별자가 없다. 즉, 변수명이나 참조할 꼬리표가 붙은 메모리 주소가 없으며, 숫자로 가리킬 수 있는 메모리만 있다."
   ]
  },
  {
   "cell_type": "markdown",
   "metadata": {},
   "source": [
    "### 이해\n",
    "\n",
    "메모리 제한이 있어 데이터들을 임시 보관할 장소에 제약이 있다.\n",
    "\n",
    "객체? 와 같은 것들은 사용이 가능하지만, 변수를 사용할 수는 없다."
   ]
  },
  {
   "cell_type": "markdown",
   "metadata": {},
   "source": [
    "# 코드"
   ]
  },
  {
   "cell_type": "code",
   "execution_count": 1,
   "metadata": {},
   "outputs": [],
   "source": [
    "# 식별자를 사용하지 않고 제약된 메모리를 최대한으로 활용하며 코드를 짜기는 쉽지 않은 것 같다.\n",
    "# 후에 프로그래밍 견해가 넓어지면 다시 코드를 짜봐야겠다."
   ]
  }
 ],
 "metadata": {
  "kernelspec": {
   "display_name": "Python 3",
   "language": "python",
   "name": "python3"
  },
  "language_info": {
   "codemirror_mode": {
    "name": "ipython",
    "version": 3
   },
   "file_extension": ".py",
   "mimetype": "text/x-python",
   "name": "python",
   "nbconvert_exporter": "python",
   "pygments_lexer": "ipython3",
   "version": "3.7.3"
  }
 },
 "nbformat": 4,
 "nbformat_minor": 2
}
