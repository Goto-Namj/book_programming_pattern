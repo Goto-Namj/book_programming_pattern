{
 "cells": [
  {
   "cell_type": "markdown",
   "metadata": {},
   "source": [
    "# 함수 합성"
   ]
  },
  {
   "cell_type": "markdown",
   "metadata": {},
   "source": [
    "# 제약 조건\n",
    "\n",
    "- 문제에서 모든 또는 중요한 부분을 귀납법을 사용해 모델링한다. 즉, 기초 사례(n0) 다음에 n + 1 규칙을 명시한다."
   ]
  },
  {
   "cell_type": "markdown",
   "metadata": {},
   "source": [
    "### 이해\n",
    "\n",
    "재귀함수 쓰래...."
   ]
  },
  {
   "cell_type": "markdown",
   "metadata": {},
   "source": [
    "# 코드"
   ]
  },
  {
   "cell_type": "code",
   "execution_count": null,
   "metadata": {},
   "outputs": [],
   "source": [
    "# 팩토리얼\n",
    "def fact(a):\n",
    "    if a < 2:\n",
    "        return 1\n",
    "    return a*fact(a-1)\n",
    "\n",
    "fact(int(input()))"
   ]
  },
  {
   "cell_type": "markdown",
   "metadata": {},
   "source": [
    "# 새로 배운 내용\n",
    "\n",
    "- 꼬리 재귀\n",
    "        \n",
    "        함수의 꼬리부분, 함수가 끝나는 부분에서 하는 재귀 호출이다.\n",
    "        \n",
    "- 꼬리 재귀 최적화\n",
    "        \n",
    "        함수를 재귀적으로 호출할 때 새로운 호출은 함수의 돌아갈 주소 값을 저장하는 스택에서 새로운 부분을 차지한다.\n",
    "        호출 횟수가 많아지면 프로그램이 느려지거나,\n",
    "        유한한 메모리의 양 때문에 스택 오버플로가 일어난다.\n",
    "        이 때 '꼬리 재귀 최적화' 기법을 사용해 해결한다.\n",
    "        \n",
    "        돌아갈 주소 값을 저장했는데 돌아가 보니 할 일이 없다면? 굳이 주소를 저장하지 않아도 된다.\n",
    "        즉 코드상이 아닌 컴파일러가 꼬리 재귀 코드를 인지하고, 해당하는 코드를 반복문으로 바꿔주어 꼬리 재귀를 통한 최적화,\n",
    "        즉 꼬리 재귀 최적화가 된다.\n",
    "        \n",
    "        다만, 파이썬에서는 꼬리 재귀 최적화를 하지 않는다고 한다."
   ]
  }
 ],
 "metadata": {
  "kernelspec": {
   "display_name": "Python 3",
   "language": "python",
   "name": "python3"
  },
  "language_info": {
   "codemirror_mode": {
    "name": "ipython",
    "version": 3
   },
   "file_extension": ".py",
   "mimetype": "text/x-python",
   "name": "python",
   "nbconvert_exporter": "python",
   "pygments_lexer": "ipython3",
   "version": "3.7.3"
  }
 },
 "nbformat": 4,
 "nbformat_minor": 2
}
