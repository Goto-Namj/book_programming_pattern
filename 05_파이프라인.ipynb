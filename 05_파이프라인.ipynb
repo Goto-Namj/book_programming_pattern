{
 "cells": [
  {
   "cell_type": "markdown",
   "metadata": {},
   "source": [
    "# 기본 형식"
   ]
  },
  {
   "cell_type": "markdown",
   "metadata": {},
   "source": [
    "# 제약 조건\n",
    "\n",
    "- 규모가 큰 문제를 함수형(functional) 추상화를 사용해 분해한다. 함수는 입력을 취해 출력을 만들어낸다.\n",
    "\n",
    "- 함수는 상태를 서로 공유하지 않는다.\n",
    "\n",
    "- 수학적 함수 합성의 결과를 신뢰할 수 있는 것처럼 규모가 큰 문제는 함수를 차례차례 파이프라인으로 합성해 해결한다."
   ]
  },
  {
   "cell_type": "markdown",
   "metadata": {},
   "source": [
    "### 이해\n",
    "\n",
    "함수가 사람이고, 결과로 나와야하는 변수를 요리라고 해보겠다.\n",
    "\n",
    "요리책 코딩방법으로 예를 들면 한사람이 자신의 일(예를들어 재료손질)을 한 뒤 다른사람이 이어서 일을 할 수 있는 장소에 손질된 재료를 두고, 다른사람이 그 손질된 재료를 가져와 요리를 하는 식이다.\n",
    "\n",
    "파이프 라인 코딩방법은 공장과 비슷한것 같다. 각 함수들이 연결되어 있고, 자신의 일을 끝 마친 뒤에 다른 사람에게 일을 직접 넘기는 것이다. 직접 넘기는 것과 직접 받아오는것은 함수의 입력과 출력이라고 할 수 있다.\n",
    "\n",
    "함수형 추상화라는 말은 만들 프로그램의 기능위주로 나눠놓는 것이고,\n",
    "요리책의 절차적 추상화라는 말은 만들 프로그램이 실행되는 과정을 생각해 코드를 짜는 것 같다.\n",
    "\n",
    "즉 기능을 만들어 놓고 순서를 이어야 하는 것과\n",
    "순서는 정해져 있고 각 순서에 해당하는 기능을 만드는 차이가 있는 것 같다."
   ]
  },
  {
   "cell_type": "markdown",
   "metadata": {},
   "source": [
    "# 코드"
   ]
  },
  {
   "cell_type": "code",
   "execution_count": 8,
   "metadata": {},
   "outputs": [
    {
     "name": "stdout",
     "output_type": "stream",
     "text": [
      "10 11 12\n",
      "결과는 4\n"
     ]
    }
   ],
   "source": [
    "# https://www.acmicpc.net/problem/1629 문제에 대한 해결이다.\n",
    "# ㅠㅠㅠㅠ 일단 코드가 작동은 하니까 여기에 두겠다.\n",
    "\n",
    "def inputs():\n",
    "    a,b,c=map(int,input().split())\n",
    "    r=1\n",
    "    return [a,b,c,r]\n",
    "\n",
    "def calc(a):\n",
    "    while(a[1]):\n",
    "        a[3]*=a[0]\n",
    "        a[3]%=a[2]\n",
    "        a[1]-=1\n",
    "    return a[3]\n",
    "        \n",
    "def print_result(r):\n",
    "    print('결과는',r)\n",
    "    \n",
    "print_result(calc(inputs()))"
   ]
  },
  {
   "cell_type": "markdown",
   "metadata": {},
   "source": [
    "# 새로 배운 내용\n",
    "\n",
    "- 추상화 : 특성 등을 추출해서 시각적으로 나타낸 것\n",
    "\n",
    "        print('***')은 *을 찍는 행동을 추상화 시킨 것이다.\n",
    "    \n",
    "        for i in range(3):print('*',end='')는 반복문을 사용함으로써 추상화 시켰고, 반복문이 실행되며 실체화 되었다.\n",
    "    \n",
    "        즉 우리가 만들어야 할 기능을 코드로 표현한 것이 추상화 이다.\n",
    "    \n",
    "- 함수형 프로그래밍(FP)\n",
    "\n",
    "        의미 : 순수함수를 조합하고, 공유상태, 변경 가능한 데이터, 부작용을 피하여 소프트웨어를 만드는 프로세스\n",
    "        \n",
    "        명령형이 아니며, 선언형\n",
    "        \n",
    "        애플리케이션의 상태는 순수 함수를 통해 전달 된다.\n",
    "        \n",
    "- 순수함수(Pure functions)\n",
    "        \n",
    "        같은 입력이 주어지면, 항상 같은 출력을 반환하고,\n",
    "        부작용이 없다.\n",
    "        \n",
    "        참조 투명성 (프로그램의 의미를 변경하지 않고 결과 값으로 함수 호출을 대체할 수 있음)의 특성을 가지고 있다.\n",
    "     \n",
    "     <https://medium.com/javascript-scene/master-the-javascript-interview-what-is-a-pure-function-d1c076bec976>\n",
    "     \n",
    "- 합성함수(Function composition)\n",
    "        \n",
    "        새로운 함수를 만들거나 계산하기 위해 둘 이상의 함수를 조합하는 과정\n",
    "        \n",
    "     <https://medium.com/javascript-scene/master-the-javascript-interview-what-is-function-composition-20dfb109a1a0>\n",
    "\n",
    "- 공유 상태 피하기(Avoid shared state)\n",
    "\n",
    "        공유 상태 : 공유 범위 내에 있는 변수, 객체\n",
    "                    메모리 공간이거나 범위간에 전달되는 객체\n",
    "                    의 속성\n",
    "                    \n",
    "        공유 상태의 문제점 : 해당 함수가 사용하거나 영향을 미치는 모든 공유 변수의 히스토리를 알아야 한다는 것\n",
    "        \n",
    "- 상태 변화 피하기(Avoid mutating state)\n",
    "\n",
    "        불변성을 가진 객체 : 객체를 생성한 후에 수정할 수 없는 객체\n",
    "        \n",
    "        const와는 다르다. const는 생성 후 재할당 할 수 없는 변수 이름 바인딩을 만든다.\n",
    "        \n",
    "        바인딩이 참조하는 객체를 변경할 수 없지만, 여전히 객체의 속성을 변경할 수 있다.\n",
    "        \n",
    "        \n",
    "     <https://medium.com/javascript-scene/the-dao-of-immutability-9f91a70c88cd>\n",
    "     \n",
    "- 부작용 피하기(Avoid side effects)\n",
    "\n",
    "        부작용 : 반환값 이외에 호출된 함수 밖에서 관찰할 수 있는 애플리케이션 상태 변화\n",
    "        \n",
    "        외부 변수 또는 객체 속성 수정(예: 전역 변수나 상위 함수 스코프 체인의 변수)\n",
    "        콘솔에서 로깅\n",
    "        화면에 쓰기 작업\n",
    "        파일에 쓰기 작업\n",
    "        네트워크에 쓰기 작업\n",
    "        외부 프로세스를 트리거\n",
    "        부작용을 동반한 다른 함수 호출"
   ]
  }
 ],
 "metadata": {
  "kernelspec": {
   "display_name": "Python 3",
   "language": "python",
   "name": "python3"
  },
  "language_info": {
   "codemirror_mode": {
    "name": "ipython",
    "version": 3
   },
   "file_extension": ".py",
   "mimetype": "text/x-python",
   "name": "python",
   "nbconvert_exporter": "python",
   "pygments_lexer": "ipython3",
   "version": "3.7.3"
  }
 },
 "nbformat": 4,
 "nbformat_minor": 2
}
