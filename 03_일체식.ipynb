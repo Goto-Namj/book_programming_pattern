{
 "cells": [
  {
   "cell_type": "markdown",
   "metadata": {},
   "source": [
    "# 기본 형식"
   ]
  },
  {
   "cell_type": "markdown",
   "metadata": {},
   "source": [
    "# 제약 조건\n",
    "\n",
    "- 명명된 추상화가 없다.\n",
    "\n",
    "- 라이브러리를 전혀 또는 거의 사용하지 않는다."
   ]
  },
  {
   "cell_type": "markdown",
   "metadata": {},
   "source": [
    "### 이해\n",
    "\n",
    "함수를 사용하지 않고 코드를 작성하면서\n",
    "말 그대로 라이브러리를 최대한 사용하지 않는다.\n",
    "\n",
    "프로그램이 실행할 일을 순차적으로 죽 나열하면 되는 것 같다.\n",
    "\n",
    "간단한 프로그램을 짤 때, 시간이 부족할 때 쓰는 방법같다."
   ]
  },
  {
   "cell_type": "markdown",
   "metadata": {},
   "source": [
    "# 코드"
   ]
  },
  {
   "cell_type": "code",
   "execution_count": 1,
   "metadata": {},
   "outputs": [
    {
     "name": "stdout",
     "output_type": "stream",
     "text": [
      "asdf\n"
     ]
    },
    {
     "ename": "ValueError",
     "evalue": "invalid literal for int() with base 10: 'asdf'",
     "output_type": "error",
     "traceback": [
      "\u001b[1;31m---------------------------------------------------------------------------\u001b[0m",
      "\u001b[1;31mValueError\u001b[0m                                Traceback (most recent call last)",
      "\u001b[1;32m<ipython-input-1-fac10cff28d3>\u001b[0m in \u001b[0;36m<module>\u001b[1;34m\u001b[0m\n\u001b[0;32m      1\u001b[0m \u001b[1;31m# https://www.acmicpc.net/problem/15975 문제에 대한 해결이다.\u001b[0m\u001b[1;33m\u001b[0m\u001b[1;33m\u001b[0m\u001b[1;33m\u001b[0m\u001b[0m\n\u001b[0;32m      2\u001b[0m \u001b[1;33m\u001b[0m\u001b[0m\n\u001b[1;32m----> 3\u001b[1;33m \u001b[0mpoint_number\u001b[0m \u001b[1;33m=\u001b[0m \u001b[0mint\u001b[0m\u001b[1;33m(\u001b[0m\u001b[0minput\u001b[0m\u001b[1;33m(\u001b[0m\u001b[1;33m)\u001b[0m\u001b[1;33m)\u001b[0m\u001b[1;33m\u001b[0m\u001b[1;33m\u001b[0m\u001b[0m\n\u001b[0m\u001b[0;32m      4\u001b[0m \u001b[0mpoint_data\u001b[0m \u001b[1;33m=\u001b[0m \u001b[1;33m{\u001b[0m\u001b[1;33m}\u001b[0m\u001b[1;33m\u001b[0m\u001b[1;33m\u001b[0m\u001b[0m\n\u001b[0;32m      5\u001b[0m \u001b[0mcolor_list\u001b[0m \u001b[1;33m=\u001b[0m \u001b[1;33m[\u001b[0m\u001b[1;33m]\u001b[0m\u001b[1;33m\u001b[0m\u001b[1;33m\u001b[0m\u001b[0m\n",
      "\u001b[1;31mValueError\u001b[0m: invalid literal for int() with base 10: 'asdf'"
     ]
    }
   ],
   "source": [
    "# https://www.acmicpc.net/problem/15975 문제에 대한 해결이다.\n",
    "\n",
    "point_number = int(input())\n",
    "point_data = {}\n",
    "color_list = []\n",
    "result = 0\n",
    "\n",
    "for i in range(point_number):\n",
    "    tmp = input().split()\n",
    "    if(not tmp[1] in color_list):\n",
    "        color_list.append(tmp[1])\n",
    "        point_data[tmp[1]] = []\n",
    "    point_data[tmp[1]].append(int(tmp[0]))\n",
    "for i in color_list:\n",
    "    point_data[i].sort()\n",
    "    for j in range(len(point_data[i])):\n",
    "        if (j == len(point_data[i])-1):\n",
    "            result+=point_data[i][j]-point_data[i][j-1]\n",
    "        elif (j == 0):\n",
    "            result+=point_data[i][j+1]-point_data[i][j]\n",
    "        else:\n",
    "            if (point_data[i][j+1]-point_data[i][j]>point_data[i][j]-point_data[i][j-1]):\n",
    "                result+=point_data[i][j]-point_data[i][j-1]\n",
    "            else:\n",
    "                result+=point_data[i][j+1]-point_data[i][j]\n",
    "                \n",
    "print(result)"
   ]
  },
  {
   "cell_type": "code",
   "execution_count": null,
   "metadata": {},
   "outputs": [],
   "source": []
  }
 ],
 "metadata": {
  "kernelspec": {
   "display_name": "Python 3",
   "language": "python",
   "name": "python3"
  },
  "language_info": {
   "codemirror_mode": {
    "name": "ipython",
    "version": 3
   },
   "file_extension": ".py",
   "mimetype": "text/x-python",
   "name": "python",
   "nbconvert_exporter": "python",
   "pygments_lexer": "ipython3",
   "version": "3.7.3"
  }
 },
 "nbformat": 4,
 "nbformat_minor": 2
}
