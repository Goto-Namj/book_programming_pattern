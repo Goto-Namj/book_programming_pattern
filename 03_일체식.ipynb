{
 "cells": [
  {
   "cell_type": "markdown",
   "metadata": {},
   "source": [
    "# 기본 형식"
   ]
  },
  {
   "cell_type": "markdown",
   "metadata": {},
   "source": [
    "# 제약 조건\n",
    "\n",
    "- 명명된 추상화가 없다.\n",
    "\n",
    "- 라이브러리를 전혀 또는 거의 사용하지 않는다."
   ]
  },
  {
   "cell_type": "markdown",
   "metadata": {},
   "source": [
    "### 이해\n",
    "\n",
    "함수를 사용하지 않고 코드를 작성하면서\n",
    "말 그대로 라이브러리를 최대한 사용하지 않는다.\n",
    "\n",
    "프로그램이 실행할 일을 순차적으로 죽 나열하면 되는 것 같다.\n",
    "\n",
    "간단한 프로그램을 짤 때, 시간이 부족할 때 쓰는 방법같다."
   ]
  },
  {
   "cell_type": "markdown",
   "metadata": {},
   "source": [
    "# 코드"
   ]
  },
  {
   "cell_type": "code",
   "execution_count": null,
   "metadata": {},
   "outputs": [],
   "source": [
    "# https://www.acmicpc.net/problem/15975 문제에 대한 해결이다.\n",
    "\n",
    "point_number = int(input())\n",
    "point_data = {}\n",
    "color_list = []\n",
    "result = 0\n",
    "\n",
    "for i in range(point_number):\n",
    "    tmp = input().split()\n",
    "    if(not tmp[1] in color_list):\n",
    "        color_list.append(tmp[1])\n",
    "        point_data[tmp[1]] = []\n",
    "    point_data[tmp[1]].append(int(tmp[0]))\n",
    "for i in color_list:\n",
    "    point_data[i].sort()\n",
    "    for j in range(len(point_data[i])):\n",
    "        if (j == len(point_data[i])-1):\n",
    "            result+=point_data[i][j]-point_data[i][j-1]\n",
    "        elif (j == 0):\n",
    "            result+=point_data[i][j+1]-point_data[i][j]\n",
    "        else:\n",
    "            if (point_data[i][j+1]-point_data[i][j]>point_data[i][j]-point_data[i][j-1]):\n",
    "                result+=point_data[i][j]-point_data[i][j-1]\n",
    "            else:\n",
    "                result+=point_data[i][j+1]-point_data[i][j]\n",
    "                \n",
    "print(result)"
   ]
  }
 ],
 "metadata": {
  "kernelspec": {
   "display_name": "Python 3",
   "language": "python",
   "name": "python3"
  },
  "language_info": {
   "codemirror_mode": {
    "name": "ipython",
    "version": 3
   },
   "file_extension": ".py",
   "mimetype": "text/x-python",
   "name": "python",
   "nbconvert_exporter": "python",
   "pygments_lexer": "ipython3",
   "version": "3.7.3"
  }
 },
 "nbformat": 4,
 "nbformat_minor": 2
}
