{
 "cells": [
  {
   "cell_type": "markdown",
   "metadata": {},
   "source": [
    "# 기본 형식"
   ]
  },
  {
   "cell_type": "markdown",
   "metadata": {},
   "source": [
    "# 제약 조건\n",
    "\n",
    "- 먼 분기(long jump)가 없다.\n",
    "\n",
    "- 절차적 추상화를 이용해 규모가 큰 문제를 더 작은 단위로 분할함으로써 제어 흐름 복잡도를 완화한다.\n",
    "프로시저는 입력을 취할 수 있는 기능 조각이지만 해당 문제와 관련 있는 출력을 반드시 만들어 내야하는 것은 아니다.\n",
    "\n",
    "- 프로시저는 상태를 전역 변수 형태로 공유할 수 있다.\n",
    "\n",
    "- 규모가 큰 문제는 공유한 상태를 변경하거나 그 상태를 더 추가하는 프로시저를 차례로 적용해 해결한다."
   ]
  },
  {
   "cell_type": "markdown",
   "metadata": {},
   "source": [
    "### 이해\n",
    "\n",
    "책의 예제코드를 보면, 전역 변수가 있고,\n",
    "그 변수를 수정하는, 멱등성을 가지지 않을 수 있는 함수(프로시저)들을 만들어 두고,\n",
    "메인 코드에서 그 함수들을 나열해놓는 형식같다.\n",
    "\n",
    "함수는 전역변수를 수정하는게 주 목적이고, 메인 코드에서 굳이 입력을 받거나 출력을 하지 않아도 된다.\n",
    "\n",
    "작업을 잘게 쪼개 놓아야 한다."
   ]
  },
  {
   "cell_type": "markdown",
   "metadata": {},
   "source": [
    "# 코드"
   ]
  },
  {
   "cell_type": "code",
   "execution_count": 8,
   "metadata": {},
   "outputs": [
    {
     "name": "stdout",
     "output_type": "stream",
     "text": [
      "1024\n"
     ]
    }
   ],
   "source": [
    "# 이 형식은 외부 데이터를 지속적으로 변경하는 작업에 잘 사용된다.\n",
    "\n",
    "global_variable = 1\n",
    "\n",
    "def procedure1():\n",
    "    global global_variable\n",
    "    global_variable += 1\n",
    "\n",
    "def procedure2():\n",
    "    global global_variable\n",
    "    global_variable **= 10\n",
    "\n",
    "procedure1()\n",
    "procedure2()\n",
    "print(global_variable)"
   ]
  },
  {
   "cell_type": "code",
   "execution_count": null,
   "metadata": {},
   "outputs": [],
   "source": []
  }
 ],
 "metadata": {
  "kernelspec": {
   "display_name": "Python 3",
   "language": "python",
   "name": "python3"
  },
  "language_info": {
   "codemirror_mode": {
    "name": "ipython",
    "version": 3
   },
   "file_extension": ".py",
   "mimetype": "text/x-python",
   "name": "python",
   "nbconvert_exporter": "python",
   "pygments_lexer": "ipython3",
   "version": "3.7.3"
  }
 },
 "nbformat": 4,
 "nbformat_minor": 2
}
